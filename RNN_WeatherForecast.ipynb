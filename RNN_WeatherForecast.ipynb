{
 "cells": [
  {
   "cell_type": "markdown",
   "metadata": {},
   "source": [
    "<h3>Problem<h3>    \n",
    "The project is to predict river flow one week ahead given measurements of past river flow, precipitation and temperature. \n",
    "\n",
    "- Input data is weather_data.nc with the 1 streamflow station and 9 meteorological stations (P, T)\n",
    "    \n",
    "- The objective is to predict streamflow one week ahead from the observations of flow, precipitation and temperature available up to the current day   \n"
   ]
  },
  {
   "cell_type": "markdown",
   "metadata": {},
   "source": [
    "<h3>Solution<h3>  \n",
    "    \n",
    "This is the typical weather forecast modeling:\n",
    "    \n",
    "- The input are 9 surrounding meteorological stations with observed Precipitation and Temperature\n",
    "- The output is river flow.    \n",
    "\n",
    "For this type of problem, I am gonna apply Recurrent Neural Network (RNN) using Precipitation, Temperature and historical streamflow to forecast the streamflow in the next 7 days using previous 30 days historical data."
   ]
  },
  {
   "cell_type": "markdown",
   "metadata": {},
   "source": [
    "<h4>Model<h4> \n",
    "The following package are used:\n",
    "    \n",
    "- Keras version 2.4.3\n",
    "- Tensorflow version 2.3\n",
    "- The RNN in use is Long Short Term Memory model\n",
    "- The platform is running using Palmetto supercomputer @ Clemson University, using 1 Tesla GPU K40 with 16 cores and 62 gb ram."
   ]
  },
  {
   "cell_type": "code",
   "execution_count": 1,
   "metadata": {},
   "outputs": [],
   "source": [
    "from netCDF4 import Dataset, num2date\n",
    "import numpy as np\n",
    "import pandas as pd\n",
    "import keras\n",
    "from datetime import date, timedelta"
   ]
  },
  {
   "cell_type": "code",
   "execution_count": 2,
   "metadata": {},
   "outputs": [],
   "source": [
    "# Load netcdf dataset\n",
    "fh = Dataset('weather_data.nc', mode='r')\n",
    "\n",
    "flow    = fh.variables['flow'][:]\n",
    "temp    = fh.variables['temperature'][:]\n",
    "prec    = fh.variables['precipitation'][:]\n",
    "timQ    = fh.variables['time_flow'][:]\n",
    "timW    = fh.variables['time_weather'][:]\n",
    "stan    = fh.variables['station_number'][:]\n",
    "\n",
    "fh.close()\n"
   ]
  },
  {
   "cell_type": "code",
   "execution_count": 3,
   "metadata": {},
   "outputs": [],
   "source": [
    "timeQ = pd.to_datetime(timQ, unit='D',\n",
    "               origin=pd.Timestamp('1958-01-04'))\n",
    "timeW = pd.to_datetime(timW, unit='D',\n",
    "               origin=pd.Timestamp('1957-01-01'))"
   ]
  },
  {
   "cell_type": "markdown",
   "metadata": {},
   "source": [
    "There are 9 meteorological stations with P and T records. In this study, I will use ALL 9 stations for simplicity. However, in the real project, we can trim down the number of stations due to collinearity using PCA or LASSO approach. Trim down number of stations can significantly reduct the computation time as well as to avoid overfitting"
   ]
  },
  {
   "cell_type": "code",
   "execution_count": 4,
   "metadata": {},
   "outputs": [],
   "source": [
    "Weather_cols = ['p1','p2','p3','p5','p5','p6','p7','p8','p9',\n",
    "               't1','t2','t3','t5','t5','t6','t7','t8','t9']\n",
    "Weather_data = pd.concat([pd.DataFrame(prec),pd.DataFrame(temp)],axis=1)\n",
    "Weather_data.columns = Weather_cols\n",
    "Weather_data['date']=timeW"
   ]
  },
  {
   "cell_type": "markdown",
   "metadata": {},
   "source": [
    "The historical flow data is also used for forecast:"
   ]
  },
  {
   "cell_type": "code",
   "execution_count": 5,
   "metadata": {},
   "outputs": [],
   "source": [
    "Flow_data = pd.DataFrame()\n",
    "Flow_data[\"Q\"] = flow\n",
    "Flow_data['date']=timeQ"
   ]
  },
  {
   "cell_type": "markdown",
   "metadata": {},
   "source": [
    "Create the dataset with 18 stations' P&T data and 1 flow data. All having same date/time"
   ]
  },
  {
   "cell_type": "code",
   "execution_count": 6,
   "metadata": {},
   "outputs": [],
   "source": [
    "All_data = pd.merge(Weather_data,Flow_data,how=\"inner\",on=\"date\")\n",
    "All_data.index = All_data[\"date\"]\n",
    "All_data = All_data.drop(\"date\",axis=1)"
   ]
  },
  {
   "cell_type": "markdown",
   "metadata": {},
   "source": [
    "In this study, I am gonna forecast the streamflow for the date \"2010-10-17\".\n",
    "I use 30 past daily data to forecast the the next 7 day streamflow.: \"2010-09-11\" to \"2010-10-10\"\n",
    "\n",
    "The data used for training & testing will be spanning from \"1958-01-04\" to \"2010-09-09\"\n",
    "The data used for actual forecasting will be spanning from : \"2010-09-10\" to \"2010-10-17\": 30+7 days \n"
   ]
  },
  {
   "cell_type": "code",
   "execution_count": 7,
   "metadata": {},
   "outputs": [],
   "source": [
    "date_forecast = \"2010-10-17\"\n",
    "past = 30\n",
    "future = 7\n",
    "date_exclude = pd.to_datetime(date_forecast)-timedelta(past+future)"
   ]
  },
  {
   "cell_type": "markdown",
   "metadata": {},
   "source": [
    "Create training & testing data: \"1958-01-04\" to \"2010-09-09\""
   ]
  },
  {
   "cell_type": "code",
   "execution_count": 8,
   "metadata": {},
   "outputs": [],
   "source": [
    "ind = np.where(All_data.index==date_exclude)\n",
    "indx=int(ind[0])\n",
    "train_test = All_data.iloc[0:indx,:]"
   ]
  },
  {
   "cell_type": "markdown",
   "metadata": {},
   "source": [
    "Create validation data for forecasting: \"2010-09-10\" to \"2010-10-17\":"
   ]
  },
  {
   "cell_type": "code",
   "execution_count": 9,
   "metadata": {},
   "outputs": [],
   "source": [
    "val_data   = All_data.iloc[indx:(indx+past+future+1),:]"
   ]
  },
  {
   "cell_type": "markdown",
   "metadata": {},
   "source": [
    "For training_testing data, I use 70% for training and 30% for testing.\n",
    "For Neural Network, the input data will be normalized\n",
    "\n",
    "For both training & testing set, I use 500 batch each among 13500 training and 5800 testing data.\n",
    "For each batch, I use 30 historical data in the past to forecast the next 7 days data.\n",
    "The learning_rate and number of epochs are chosen as 0.001 and 10 but can be changed later on to optimize the model.\n"
   ]
  },
  {
   "cell_type": "code",
   "execution_count": 10,
   "metadata": {},
   "outputs": [],
   "source": [
    "split_fraction = 0.7\n",
    "train_split = int(split_fraction * int(train_test.shape[0]))\n",
    "\n",
    "batch_size = 500\n",
    "learning_rate = 0.001\n",
    "epochs = 10"
   ]
  },
  {
   "cell_type": "markdown",
   "metadata": {},
   "source": [
    "Normalized train & test set"
   ]
  },
  {
   "cell_type": "code",
   "execution_count": 11,
   "metadata": {},
   "outputs": [],
   "source": [
    "from sklearn.preprocessing import MinMaxScaler\n",
    "scale = MinMaxScaler(feature_range=(0,1))\n",
    "scaled_features = pd.DataFrame(scale.fit_transform(train_test))\n",
    "scaled_features.columns = train_test.columns\n",
    "scaled_features.index = train_test.index\n",
    "train_data = scaled_features[0:train_split]\n",
    "test_data =  scaled_features[train_split:]"
   ]
  },
  {
   "cell_type": "markdown",
   "metadata": {},
   "source": [
    "Split training & testing data"
   ]
  },
  {
   "cell_type": "markdown",
   "metadata": {},
   "source": [
    "Prepare predictors (x_train) and predictand (y_train) for training data"
   ]
  },
  {
   "cell_type": "code",
   "execution_count": 12,
   "metadata": {},
   "outputs": [],
   "source": [
    "start = future\n",
    "end = start + train_split\n",
    "\n",
    "x_train = train_data\n",
    "y_train = scaled_features[start:end][\"Q\"]\n",
    "\n",
    "sequence_length = past"
   ]
  },
  {
   "cell_type": "markdown",
   "metadata": {},
   "source": [
    "For training data set, the updated keras (with tensorflow version 2.3 and above) has built-in function to prepare for time series modeling using given batch size and the length for historical data."
   ]
  },
  {
   "cell_type": "code",
   "execution_count": 13,
   "metadata": {},
   "outputs": [],
   "source": [
    "dataset_train = keras.preprocessing.timeseries_dataset_from_array(\n",
    "    x_train,\n",
    "    y_train,\n",
    "    sequence_length=sequence_length,\n",
    "    batch_size=batch_size,\n",
    ")"
   ]
  },
  {
   "cell_type": "code",
   "execution_count": 14,
   "metadata": {},
   "outputs": [
    {
     "name": "stdout",
     "output_type": "stream",
     "text": [
      "Input shape: (500, 30, 19)\n",
      "Target shape: (500,)\n"
     ]
    }
   ],
   "source": [
    "for batch in dataset_train.take(1):\n",
    "    inputs, targets = batch\n",
    "\n",
    "print(\"Input shape:\", inputs.numpy().shape)\n",
    "print(\"Target shape:\", targets.numpy().shape)"
   ]
  },
  {
   "cell_type": "markdown",
   "metadata": {},
   "source": [
    "Build RNN model using Long Short Term Memory model (LSTM). In this study, I use stacked LSTM hidden layer with 32 nodes.\n",
    "As the requirement is the forecast for the flow 1 week ahead, so there is only 1 output here.\n",
    "\n",
    "The Optimizer is the Adam algorithm.\n",
    "\n",
    "Adam optimization is a stochastic gradient descent method that is based on adaptive estimation of first-order and second-order moments.\n",
    "According to Kingma et al., 2014, the method is \"computationally efficient, has little memory requirement, invariant to diagonal rescaling of gradients, and is well suited for problems that are large in terms of data/parameters\".\n",
    "\n",
    "The loss function is mean_squared_error (mse)"
   ]
  },
  {
   "cell_type": "code",
   "execution_count": 15,
   "metadata": {},
   "outputs": [
    {
     "name": "stdout",
     "output_type": "stream",
     "text": [
      "Model: \"functional_1\"\n",
      "_________________________________________________________________\n",
      "Layer (type)                 Output Shape              Param #   \n",
      "=================================================================\n",
      "input_1 (InputLayer)         [(None, 30, 19)]          0         \n",
      "_________________________________________________________________\n",
      "lstm (LSTM)                  (None, 32)                6656      \n",
      "_________________________________________________________________\n",
      "dense (Dense)                (None, 1)                 33        \n",
      "=================================================================\n",
      "Total params: 6,689\n",
      "Trainable params: 6,689\n",
      "Non-trainable params: 0\n",
      "_________________________________________________________________\n"
     ]
    }
   ],
   "source": [
    "inputs = keras.layers.Input(shape=(inputs.shape[1], inputs.shape[2]))\n",
    "lstm_out = keras.layers.LSTM(32, activation=\"relu\")(inputs)\n",
    "outputs = keras.layers.Dense(1)(lstm_out)\n",
    "\n",
    "model = keras.Model(inputs=inputs, outputs=outputs)\n",
    "model.compile(optimizer=keras.optimizers.Adam(learning_rate=learning_rate), loss=\"mse\")\n",
    "model.summary()    "
   ]
  },
  {
   "cell_type": "markdown",
   "metadata": {},
   "source": [
    "Split data for testing data set using keras preprocessing timeseries function"
   ]
  },
  {
   "cell_type": "code",
   "execution_count": 16,
   "metadata": {},
   "outputs": [],
   "source": [
    "x_end = len(test_data) - future\n",
    "\n",
    "label_start = train_split + future\n",
    "\n",
    "x_test = test_data.iloc[:x_end,:]\n",
    "y_test = scaled_features.iloc[label_start:][\"Q\"]\n",
    "\n",
    "dataset_test = keras.preprocessing.timeseries_dataset_from_array(\n",
    "    x_test,\n",
    "    y_test,\n",
    "    sequence_length=sequence_length,\n",
    "    batch_size=batch_size\n",
    ")"
   ]
  },
  {
   "cell_type": "code",
   "execution_count": 17,
   "metadata": {},
   "outputs": [
    {
     "name": "stdout",
     "output_type": "stream",
     "text": [
      "Input shape: (500, 30, 19)\n",
      "Target shape: (500,)\n"
     ]
    }
   ],
   "source": [
    "for batch in dataset_test.take(1):\n",
    "    inputs_test, targets_test = batch\n",
    "\n",
    "print(\"Input shape:\", inputs_test.numpy().shape)\n",
    "print(\"Target shape:\", targets_test.numpy().shape)"
   ]
  },
  {
   "cell_type": "code",
   "execution_count": 18,
   "metadata": {},
   "outputs": [
    {
     "name": "stdout",
     "output_type": "stream",
     "text": [
      "Epoch 1/10\n",
      "27/27 [==============================] - 2s 67ms/step - loss: 0.0354 - val_loss: 0.0155\n",
      "Epoch 2/10\n",
      "27/27 [==============================] - 2s 61ms/step - loss: 0.0139 - val_loss: 0.0131\n",
      "Epoch 3/10\n",
      "27/27 [==============================] - 2s 63ms/step - loss: 0.0126 - val_loss: 0.0128\n",
      "Epoch 4/10\n",
      "27/27 [==============================] - 2s 61ms/step - loss: 0.0123 - val_loss: 0.0124\n",
      "Epoch 5/10\n",
      "27/27 [==============================] - 2s 61ms/step - loss: 0.0119 - val_loss: 0.0119\n",
      "Epoch 6/10\n",
      "27/27 [==============================] - 2s 62ms/step - loss: 0.0093 - val_loss: 0.0062\n",
      "Epoch 7/10\n",
      "27/27 [==============================] - 2s 61ms/step - loss: 0.0043 - val_loss: 0.0045\n",
      "Epoch 8/10\n",
      "27/27 [==============================] - 2s 61ms/step - loss: 0.0041 - val_loss: 0.0036\n",
      "Epoch 9/10\n",
      "27/27 [==============================] - 2s 61ms/step - loss: 0.0033 - val_loss: 0.0039\n",
      "Epoch 10/10\n",
      "27/27 [==============================] - 2s 61ms/step - loss: 0.0031 - val_loss: 0.0037\n"
     ]
    }
   ],
   "source": [
    "history = model.fit(\n",
    "    dataset_train,\n",
    "    epochs=epochs,\n",
    "    validation_data=dataset_test   \n",
    ")"
   ]
  },
  {
   "cell_type": "code",
   "execution_count": 19,
   "metadata": {},
   "outputs": [
    {
     "data": {
      "image/png": "[encoded data removed]",
      "text/plain": [
       "<Figure size 640x480 with 1 Axes>"
      ]
     },
     "metadata": {},
     "output_type": "display_data"
    }
   ],
   "source": [
    "import matplotlib.pyplot as plt\n",
    "def visualize_loss(history, title):\n",
    "    loss = history.history[\"loss\"]\n",
    "    val_loss = history.history[\"val_loss\"]\n",
    "    epochs = range(len(loss))\n",
    "    plt.figure()\n",
    "    plt.plot(epochs, loss, \"b\", label=\"Training loss\")\n",
    "    plt.plot(epochs, val_loss, \"r\", label=\"Validation loss\")\n",
    "    plt.title(title)\n",
    "    plt.xlabel(\"Epochs\")\n",
    "    plt.ylabel(\"Loss\")\n",
    "    plt.legend()\n",
    "    plt.show()\n",
    "\n",
    "\n",
    "visualize_loss(history, \"Training and Validation Loss\")"
   ]
  },
  {
   "cell_type": "code",
   "execution_count": 20,
   "metadata": {},
   "outputs": [],
   "source": [
    "y_predict = model.predict(inputs_test)"
   ]
  },
  {
   "cell_type": "code",
   "execution_count": 21,
   "metadata": {},
   "outputs": [],
   "source": [
    "flowtt = np.array(train_test[\"Q\"])\n",
    "flowtt = flowtt.reshape(flowtt.shape[0],1)\n",
    "sc1 = MinMaxScaler(feature_range=(0,1))\n",
    "sc1.fit_transform(flowtt)\n",
    "y_predict_descaled = sc1.inverse_transform(y_predict)\n",
    "y_test_descaled    = sc1.inverse_transform(np.array(targets_test).reshape(targets_test.shape[0],1))\n",
    "\n",
    "y_predict_descaled[y_predict_descaled<0]=0"
   ]
  },
  {
   "cell_type": "code",
   "execution_count": 22,
   "metadata": {},
   "outputs": [],
   "source": [
    "from sklearn.metrics import mean_squared_error\n",
    "from sklearn.metrics import r2_score\n",
    "\n",
    "R2 = r2_score(y_test_descaled,y_predict_descaled)\n",
    "MSE = mean_squared_error(y_test_descaled,y_predict_descaled)"
   ]
  },
  {
   "cell_type": "code",
   "execution_count": 23,
   "metadata": {},
   "outputs": [
    {
     "data": {
      "image/png": "[encoded data removed]",
      "text/plain": [
       "<Figure size 640x480 with 1 Axes>"
      ]
     },
     "metadata": {},
     "output_type": "display_data"
    }
   ],
   "source": [
    "plt.plot(y_test_descaled, color = 'black', linewidth=1, label = 'Observerd')\n",
    "plt.plot(y_predict_descaled, color = 'red',  linewidth=1, label = 'Predicted')\n",
    "plt.legend(frameon=False)\n",
    "plt.ylabel(\"Flow\")\n",
    "plt.xlabel(\"Batch\")\n",
    "plt.title(\"Predicted data (all batch): \" + \"R2 = \" + str(round(R2,2))+\"; MSE = \" + str(round(MSE,2)))\n",
    "plt.show()"
   ]
  },
  {
   "cell_type": "code",
   "execution_count": 24,
   "metadata": {},
   "outputs": [],
   "source": [
    "scaled_val_data = scale.fit_transform(val_data.values)\n",
    "scaled_x_val = scaled_val_data[1:31]\n",
    "x_val = scaled_x_val.reshape(1,scaled_x_val.shape[0],scaled_x_val.shape[1])"
   ]
  },
  {
   "cell_type": "code",
   "execution_count": 25,
   "metadata": {},
   "outputs": [],
   "source": [
    "y_7d = model.predict(x_val)\n",
    "y_predict_descaled1 = sc1.inverse_transform(y_7d)"
   ]
  },
  {
   "cell_type": "code",
   "execution_count": 26,
   "metadata": {},
   "outputs": [
    {
     "data": {
      "text/plain": [
       "array([[12.142197]], dtype=float32)"
      ]
     },
     "execution_count": 26,
     "metadata": {},
     "output_type": "execute_result"
    }
   ],
   "source": [
    "y_predict_descaled1"
   ]
  },
  {
   "cell_type": "code",
   "execution_count": 27,
   "metadata": {},
   "outputs": [],
   "source": [
    "yobs = val_data[\"Q\"][37]"
   ]
  },
  {
   "cell_type": "code",
   "execution_count": 28,
   "metadata": {},
   "outputs": [
    {
     "data": {
      "text/plain": [
       "2.1856861094513413"
      ]
     },
     "execution_count": 28,
     "metadata": {},
     "output_type": "execute_result"
    }
   ],
   "source": [
    "yobs"
   ]
  },
  {
   "cell_type": "code",
   "execution_count": null,
   "metadata": {},
   "outputs": [],
   "source": []
  }
 ],
 "metadata": {
  "kernelspec": {
   "display_name": "DL_Keras",
   "language": "python",
   "name": "my_keras"
  },
  "language_info": {
   "codemirror_mode": {
    "name": "ipython",
    "version": 3
   },
   "file_extension": ".py",
   "mimetype": "text/x-python",
   "name": "python",
   "nbconvert_exporter": "python",
   "pygments_lexer": "ipython3",
   "version": "3.8.8"
  }
 },
 "nbformat": 4,
 "nbformat_minor": 4
}
